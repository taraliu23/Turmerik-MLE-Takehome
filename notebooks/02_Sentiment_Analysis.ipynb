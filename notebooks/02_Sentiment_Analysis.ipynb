{
 "cells": [
  {
   "cell_type": "markdown",
   "metadata": {},
   "source": [
    "\n",
    "- Perform sentiment analysis on the scraped data to determine the general attitude and interest levels regarding clinical trials.\n"
   ]
  },
  {
   "cell_type": "code",
   "execution_count": null,
   "metadata": {},
   "outputs": [],
   "source": [
    "from transformers import pipeline, set_seed\n",
    "import pandas as pd\n",
    "import os\n",
    "import matplotlib.pyplot as plt\n",
    "\n",
    "from transformers import pipeline\n",
    "set_seed(42)\n",
    "\n",
    "sentiment_pipeline = pipeline(\"sentiment-analysis\", max_length=512)"
   ]
  },
  {
   "cell_type": "code",
   "execution_count": null,
   "metadata": {},
   "outputs": [],
   "source": [
    "def dataloader(file_path):\n",
    "\tdata = pd.read_csv(file_path)\n",
    "\treturn data\n",
    "\n",
    "\n",
    "def fillna(data):\n",
    "\tdata['selftext'].fillna(data['title'], inplace=True)\n",
    "\treturn data\n",
    "\n",
    "def get_sentiment_score(text):\n",
    "\n",
    "    try:\n",
    "        sentiment = sentiment_pipeline(text)[0]\n",
    "        return sentiment['score'] if sentiment['label'] == 'POSITIVE' else -sentiment['score']\n",
    "    except:\n",
    "        return 0\n",
    "\n"
   ]
  },
  {
   "cell_type": "code",
   "execution_count": null,
   "metadata": {},
   "outputs": [],
   "source": [
    "\n",
    "def preprocess_data(file_path):\n",
    "\n",
    "\tdata = dataloader(file_path)\n",
    "\tdata = fillna(data)\n",
    "\tdata['sentiment_score'] = data['selftext'].apply(lambda x: get_sentiment_score(x))\n",
    "\tdata['sentiment_label'] = data['sentiment_score'].apply(lambda x: get_sentiment_label(x))\n",
    "\tdata.to_csv(f'preprocessed_{file_path}', index=False)\n",
    "\treturn data\n",
    "\n",
    "\n",
    "def plot_sentiment_score_distribution(data, file_path):\n",
    "\tdata['sentiment_score'].plot(kind='hist', bins=100)\n",
    "\tplt.xlabel('Sentiment Score')\n",
    "\tplt.title(f'Sentiment Score Distribution - {file_path.split(\"_\")[0].capitalize()}')\n",
    "\tplt.savefig(f'../data/processed/{file_path}_sentiment_score_distribution.png', dpi=400)\n",
    "\n",
    "\n",
    "for file in os.listdir('raw_data'):\n",
    "\tif file.endswith('.csv'):\n",
    "\t\tdata = preprocess_data(f'raw_data/{file}')\n",
    "\t\tplot_sentiment_score_distribution(data, file.split('.')[0])\n"
   ]
  }
 ],
 "metadata": {
  "kernelspec": {
   "display_name": "city8",
   "language": "python",
   "name": "python3"
  },
  "language_info": {
   "codemirror_mode": {
    "name": "ipython",
    "version": 3
   },
   "file_extension": ".py",
   "mimetype": "text/x-python",
   "name": "python",
   "nbconvert_exporter": "python",
   "pygments_lexer": "ipython3",
   "version": "3.10.5"
  }
 },
 "nbformat": 4,
 "nbformat_minor": 2
}
