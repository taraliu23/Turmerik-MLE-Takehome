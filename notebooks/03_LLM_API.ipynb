{
 "cells": [
  {
   "cell_type": "markdown",
   "metadata": {
    "colab_type": "text",
    "id": "view-in-github"
   },
   "source": [
    "<a href=\"https://colab.research.google.com/github/taraliu23/Turmerik-MLE-Takehome/blob/main/notebooks/03_LLM_API.ipynb\" target=\"_parent\"><img src=\"https://colab.research.google.com/assets/colab-badge.svg\" alt=\"Open In Colab\"/></a>"
   ]
  },
  {
   "cell_type": "code",
   "execution_count": 1,
   "metadata": {
    "colab": {
     "base_uri": "https://localhost:8080/"
    },
    "id": "t0r-Lxq4bQKI",
    "outputId": "8c894001-1b87-42b5-adb5-ec81362437ad"
   },
   "outputs": [
    {
     "name": "stdout",
     "output_type": "stream",
     "text": [
      "nvcc: NVIDIA (R) Cuda compiler driver\n",
      "Copyright (c) 2005-2023 NVIDIA Corporation\n",
      "Built on Tue_Aug_15_22:02:13_PDT_2023\n",
      "Cuda compilation tools, release 12.2, V12.2.140\n",
      "Build cuda_12.2.r12.2/compiler.33191640_0\n"
     ]
    }
   ],
   "source": [
    "!/usr/local/cuda/bin/nvcc --version"
   ]
  },
  {
   "cell_type": "code",
   "execution_count": 2,
   "metadata": {
    "colab": {
     "base_uri": "https://localhost:8080/"
    },
    "id": "jbIysOK6cAmH",
    "outputId": "eb9db5f1-5b31-47a0-af7c-640fd93ee32c"
   },
   "outputs": [
    {
     "name": "stdout",
     "output_type": "stream",
     "text": [
      "Tue Nov 19 03:22:16 2024       \n",
      "+---------------------------------------------------------------------------------------+\n",
      "| NVIDIA-SMI 535.104.05             Driver Version: 535.104.05   CUDA Version: 12.2     |\n",
      "|-----------------------------------------+----------------------+----------------------+\n",
      "| GPU  Name                 Persistence-M | Bus-Id        Disp.A | Volatile Uncorr. ECC |\n",
      "| Fan  Temp   Perf          Pwr:Usage/Cap |         Memory-Usage | GPU-Util  Compute M. |\n",
      "|                                         |                      |               MIG M. |\n",
      "|=========================================+======================+======================|\n",
      "|   0  Tesla T4                       Off | 00000000:00:04.0 Off |                    0 |\n",
      "| N/A   39C    P8               9W /  70W |      0MiB / 15360MiB |      0%      Default |\n",
      "|                                         |                      |                  N/A |\n",
      "+-----------------------------------------+----------------------+----------------------+\n",
      "                                                                                         \n",
      "+---------------------------------------------------------------------------------------+\n",
      "| Processes:                                                                            |\n",
      "|  GPU   GI   CI        PID   Type   Process name                            GPU Memory |\n",
      "|        ID   ID                                                             Usage      |\n",
      "|=======================================================================================|\n",
      "|  No running processes found                                                           |\n",
      "+---------------------------------------------------------------------------------------+\n"
     ]
    }
   ],
   "source": [
    "!nvidia-smi"
   ]
  },
  {
   "cell_type": "code",
   "execution_count": 3,
   "metadata": {
    "id": "J6Pd9SFJ1yVi"
   },
   "outputs": [],
   "source": [
    "!pip install -q -U google-generativeai"
   ]
  },
  {
   "cell_type": "code",
   "execution_count": 5,
   "metadata": {
    "id": "HTiaTu6O1LRC"
   },
   "outputs": [],
   "source": [
    "# Import the Python SDK\n",
    "import google.generativeai as genai\n",
    "# Used to securely store your API key\n",
    "from google.colab import userdata\n",
    "\n",
    "GOOGLE_API_KEY=userdata.get('GOOGLE_API_KEY')\n",
    "genai.configure(api_key=GOOGLE_API_KEY)"
   ]
  },
  {
   "cell_type": "markdown",
   "metadata": {
    "id": "CZPYk29o2No0"
   },
   "source": [
    "## Initialize the Generative Model\n",
    "\n",
    "Before you can make any API calls, you need to initialize the Generative Model."
   ]
  },
  {
   "cell_type": "code",
   "execution_count": 6,
   "metadata": {
    "id": "s-JqXcDe2hZ_"
   },
   "outputs": [],
   "source": [
    "model = genai.GenerativeModel('gemini-pro')"
   ]
  },
  {
   "cell_type": "markdown",
   "metadata": {
    "id": "nXxypzJH4MUl"
   },
   "source": [
    "## Generate text"
   ]
  },
  {
   "cell_type": "code",
   "execution_count": 7,
   "metadata": {
    "colab": {
     "base_uri": "https://localhost:8080/",
     "height": 940
    },
    "id": "j51mcrLD4Y2W",
    "outputId": "2c9b9161-578f-44f6-8c7f-23fe7ea58508"
   },
   "outputs": [
    {
     "name": "stdout",
     "output_type": "stream",
     "text": [
      "**Guidance for a Patient with PTSD and Williams Syndrome for Clinical Trial**\n",
      "\n",
      "**Pre-Screening:**\n",
      "\n",
      "* Inform the patient about the trial, its purpose, and potential benefits and risks.\n",
      "* Assess the patient's mental health history and current symptoms to determine eligibility.\n",
      "* Consider the unique challenges faced by individuals with Williams Syndrome, such as social difficulties, anxiety, and hypersensitivity to noise.\n",
      "\n",
      "**Informed Consent:**\n",
      "\n",
      "* Ensure the patient understands all aspects of the trial and has the capacity to make informed decisions.\n",
      "* Obtain written informed consent from the patient's legal guardian, if necessary.\n",
      "\n",
      "**Baseline Assessment:**\n",
      "\n",
      "* Conduct a comprehensive assessment of the patient's PTSD and Williams Syndrome symptoms.\n",
      "* Establish baseline measures of psychological functioning, social skills, and physiological responses.\n",
      "\n",
      "**Randomization:**\n",
      "\n",
      "* Randomly assign the patient to either the experimental or control group.\n",
      "* Ensure that the patient is blinded to the treatment assignment, if possible.\n",
      "\n",
      "**Treatment Phase:**\n",
      "\n",
      "* The experimental group will receive the investigational treatment (e.g., medication, psychotherapy, or a combination of both).\n",
      "* The control group will receive a placebo or standard care.\n",
      "* Monitor the patient's progress regularly and assess for any adverse events.\n",
      "\n",
      "**Follow-Up Assessment:**\n",
      "\n",
      "* Conduct follow-up assessments at predetermined intervals to track the patient's symptoms and response to treatment.\n",
      "* Compare the outcomes between the experimental and control groups to determine the efficacy of the intervention.\n",
      "\n",
      "**Additional Considerations for Williams Syndrome:**\n",
      "\n",
      "* **Social support:** Encourage the patient to participate in social activities and connect with support groups for individuals with Williams Syndrome.\n",
      "* **Sensory sensitivity:** Minimize noise levels during assessments and provide a quiet environment for the patient.\n",
      "* **Cognitive difficulties:** Simplify instructions and use visual aids to enhance understanding.\n",
      "* **Anxiety:** Provide coping mechanisms and support for managing anxiety.\n",
      "\n",
      "**Communication:**\n",
      "\n",
      "* Establish open communication with the patient and their caregiver.\n",
      "* Use clear and concise language, avoiding technical jargon.\n",
      "* Regularly provide updates on the patient's progress and any changes to the trial protocol.\n",
      "\n",
      "**Safety:**\n",
      "\n",
      "* Prioritize the patient's safety throughout the trial.\n",
      "* Monitor for adverse events, both physical and psychological.\n",
      "* Provide immediate medical attention if necessary.\n"
     ]
    }
   ],
   "source": [
    "response = model.generate_content(\"Provide guidence for a patient with PTSD and Williams Syndrome for clinical trail\")\n",
    "print(response.text)"
   ]
  }
 ],
 "metadata": {
  "accelerator": "GPU",
  "colab": {
   "gpuType": "T4",
   "include_colab_link": true,
   "provenance": []
  },
  "kernelspec": {
   "display_name": "city8",
   "language": "python",
   "name": "python3"
  },
  "language_info": {
   "name": "python",
   "version": "3.10.5"
  }
 },
 "nbformat": 4,
 "nbformat_minor": 0
}
