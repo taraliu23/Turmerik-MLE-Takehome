{
 "cells": [
  {
   "cell_type": "code",
   "execution_count": 1,
   "metadata": {},
   "outputs": [],
   "source": [
    "# !pip install praw\n",
    "\n",
    "import praw\n",
    "import pandas as pd"
   ]
  },
  {
   "cell_type": "code",
   "execution_count": 2,
   "metadata": {},
   "outputs": [],
   "source": [
    "\n",
    "with open('../secret.txt') as f:\n",
    "    \n",
    "    lines = f.readlines()\n",
    "    client_id = lines[0].strip()\n",
    "    client_secret = lines[1].strip()\n",
    "    user_agent = lines[2].strip()\n",
    "\n",
    "reddit = praw.Reddit(\n",
    "    client_id=client_id,\n",
    "    client_secret=client_secret,\n",
    "    user_agent=user_agent,\n",
    ")\n"
   ]
  },
  {
   "cell_type": "code",
   "execution_count": 5,
   "metadata": {},
   "outputs": [
    {
     "name": "stdout",
     "output_type": "stream",
     "text": [
      "Lad wrote a Python script to download Alexa voice recordings, he didn't expect this email.\n",
      "https://i.redd.it/2s0dj8ob12u41.png\n",
      "---\n",
      "This post has:\n",
      "https://www.reddit.com/r/Python/comments/hoolsm/this_post_has/\n",
      "---\n",
      "I redesign the Python logo to make it more modern\n",
      "https://i.redd.it/rxezjyf4ojx41.png\n",
      "---\n",
      "Automate the boring stuff with python - tinder\n",
      "https://gfycat.com/PointlessSimplisticAmericanquarterhorse\n",
      "---\n",
      "I'm excited to share my first published book, Introduction to Python Programming for Business and Social Science Applications -- specifically geared towards students not specifically in computer science\n",
      "https://i.redd.it/ebmh8z3c8rm51.png\n",
      "---\n",
      "Drawing Mona Lisa with 256 circles using evolution [Github repo in comments]\n",
      "https://v.redd.it/nyzyx7uyfwz41\n",
      "---\n",
      "I made a simulation using Python in which a neural network learns to race\n",
      "https://v.redd.it/bgmc6q20ela51\n",
      "---\n",
      "Thanks to everyone’s advice, my mouse drawing algorithm has gotten much better and faster!\n",
      "https://v.redd.it/sktc30zom7y41\n",
      "---\n",
      "Debugging Cheat Sheet\n",
      "https://i.redd.it/p1i8awsivji51.jpg\n",
      "---\n",
      "Just trying to create a orbit system in python and this happened...\n",
      "https://v.redd.it/8i70ps8doqr31\n",
      "---\n"
     ]
    }
   ],
   "source": [
    "# test the connection\n",
    "subreddit = reddit.subreddit('python')\n",
    "for submission in subreddit.top(limit=10):\n",
    "  print(submission.title)\n",
    "  print(submission.url)\n",
    "  print(\"---\")"
   ]
  },
  {
   "cell_type": "code",
   "execution_count": null,
   "metadata": {},
   "outputs": [],
   "source": []
  },
  {
   "cell_type": "markdown",
   "metadata": {},
   "source": [
    "- Develop a script to scrape Reddit posts and comments from specific subreddits related to health conditions relevant to the clinical trial.\n",
    "\n",
    "- Perform sentiment analysis on the scraped data to determine the general attitude and interest levels regarding clinical trials.\n",
    "\n",
    "- Use the OpenAI API to generate personalized messages aimed at users who express interest in or could potentially benefit from participating in a clinical trial."
   ]
  },
  {
   "cell_type": "code",
   "execution_count": 7,
   "metadata": {},
   "outputs": [
    {
     "name": "stdout",
     "output_type": "stream",
     "text": [
      "Collecting pandas\n",
      "  Downloading pandas-2.2.3-cp311-cp311-macosx_10_9_x86_64.whl (12.6 MB)\n",
      "\u001b[2K     \u001b[90m━━━━━━━━━━━━━━━━━━━━━━━━━━━━━━━━━━━━━━━━\u001b[0m \u001b[32m12.6/12.6 MB\u001b[0m \u001b[31m10.4 MB/s\u001b[0m eta \u001b[36m0:00:00\u001b[0m00:01\u001b[0m00:01\u001b[0m\n",
      "\u001b[?25hCollecting numpy>=1.23.2 (from pandas)\n",
      "  Downloading numpy-2.1.3-cp311-cp311-macosx_14_0_x86_64.whl (6.9 MB)\n",
      "\u001b[2K     \u001b[90m━━━━━━━━━━━━━━━━━━━━━━━━━━━━━━━━━━━━━━━━\u001b[0m \u001b[32m6.9/6.9 MB\u001b[0m \u001b[31m10.1 MB/s\u001b[0m eta \u001b[36m0:00:00\u001b[0m00:01\u001b[0m00:01\u001b[0m\n",
      "\u001b[?25hRequirement already satisfied: python-dateutil>=2.8.2 in /Users/rainylty/opt/anaconda3/envs/limpressive/lib/python3.11/site-packages (from pandas) (2.8.2)\n",
      "Collecting pytz>=2020.1 (from pandas)\n",
      "  Downloading pytz-2024.2-py2.py3-none-any.whl (508 kB)\n",
      "\u001b[2K     \u001b[90m━━━━━━━━━━━━━━━━━━━━━━━━━━━━━━━━━━━━━━━\u001b[0m \u001b[32m508.0/508.0 kB\u001b[0m \u001b[31m8.8 MB/s\u001b[0m eta \u001b[36m0:00:00\u001b[0ma \u001b[36m0:00:01\u001b[0m\n",
      "\u001b[?25hCollecting tzdata>=2022.7 (from pandas)\n",
      "  Downloading tzdata-2024.2-py2.py3-none-any.whl (346 kB)\n",
      "\u001b[2K     \u001b[90m━━━━━━━━━━━━━━━━━━━━━━━━━━━━━━━━━━━━━━━\u001b[0m \u001b[32m346.6/346.6 kB\u001b[0m \u001b[31m6.0 MB/s\u001b[0m eta \u001b[36m0:00:00\u001b[0m00:01\u001b[0m\n",
      "\u001b[?25hRequirement already satisfied: six>=1.5 in /Users/rainylty/opt/anaconda3/envs/limpressive/lib/python3.11/site-packages (from python-dateutil>=2.8.2->pandas) (1.16.0)\n",
      "Installing collected packages: pytz, tzdata, numpy, pandas\n",
      "Successfully installed numpy-2.1.3 pandas-2.2.3 pytz-2024.2 tzdata-2024.2\n",
      "                                               title  \\\n",
      "0  Not👏everyone👏who👏has👏ptsd👏has👏served👏in👏the👏army👏   \n",
      "1  Does anyone else’s brain automatically default...   \n",
      "2                        My Boss Questioned my Scars   \n",
      "3               The best PTSD advice I ever heard...   \n",
      "4  Two years ago I gave up - today I found out I ...   \n",
      "\n",
      "                                            selftext  \\\n",
      "0  Seriously I heard this so often: \"YoU Don'T Ha...   \n",
      "1  I’m currently on Effexor and Mirtazapine, and ...   \n",
      "2  So, it finally happened yesterday...I caved an...   \n",
      "3  Was that I was trying to be who I was before t...   \n",
      "4  Two years ago, I made my first of three suicid...   \n",
      "\n",
      "                                                 url subreddit  \n",
      "0  https://www.reddit.com/r/ptsd/comments/i8dy3l/...      PTSD  \n",
      "1  https://www.reddit.com/r/ptsd/comments/gmvx7g/...      PTSD  \n",
      "2  https://www.reddit.com/r/ptsd/comments/ckpd1m/...      PTSD  \n",
      "3  https://www.reddit.com/r/ptsd/comments/fly9i5/...      PTSD  \n",
      "4  https://www.reddit.com/r/ptsd/comments/cbsb2l/...      PTSD  \n"
     ]
    }
   ],
   "source": [
    "# scrape subreddit \"PTSD\", \"depression\", \"anxiety\", \"mentalhealth\", related to health condition relevant to the clinical trial\n",
    "\n",
    "subreddits = ['PTSD', 'depression', 'anxiety', 'mentalhealth']\n",
    "data = []\n",
    "\n",
    "for subreddit in subreddits:\n",
    "\t  for submission in reddit.subreddit(subreddit).top(limit=1000):\n",
    "\t\t  data.append([submission.title, submission.selftext, submission.url, subreddit])\n",
    "\n",
    "df = pd.DataFrame(data, columns=['title', 'selftext', 'url', 'subreddit'])\n",
    "df.to_csv('subreddit_data.csv', index=False)\n",
    "\n",
    "print(df.head())\n"
   ]
  },
  {
   "cell_type": "code",
   "execution_count": 10,
   "metadata": {},
   "outputs": [
    {
     "name": "stdout",
     "output_type": "stream",
     "text": [
      "                                               title  \\\n",
      "0  Clinical Research Role/Salary Master Form & Sp...   \n",
      "1  I GOT A PHARMA JOB TODAY AFTER 5 MONTHS OF APP...   \n",
      "2                            Who else can relate?! 🤣   \n",
      "3                         Guys I think I have an AE    \n",
      "4                       Guys!!! I finally got a job!   \n",
      "\n",
      "                                            selftext  \\\n",
      "0  Note: 2024-JUL-14: For any line deletions or e...   \n",
      "1  I got ACRP-certified in March and today, 5 mon...   \n",
      "2                                                      \n",
      "3  I seem to be experiencing intermittent headach...   \n",
      "4  It's been 8 months since I've been laid off. T...   \n",
      "\n",
      "                                                 url         subreddit  \n",
      "0  https://www.reddit.com/r/clinicalresearch/comm...  clinicalresearch  \n",
      "1  https://www.reddit.com/r/clinicalresearch/comm...  clinicalresearch  \n",
      "2               https://i.redd.it/knclc380pdmc1.jpeg  clinicalresearch  \n",
      "3  https://www.reddit.com/r/clinicalresearch/comm...  clinicalresearch  \n",
      "4  https://www.reddit.com/r/clinicalresearch/comm...  clinicalresearch  \n"
     ]
    }
   ],
   "source": [
    "# scrape subreddit \"clinicalresearch\"\n",
    "\n",
    "data = []\n",
    "\n",
    "for submission in reddit.subreddit('clinicalresearch').top(limit=1000):\n",
    "\t  data.append([submission.title, submission.selftext, submission.url, 'clinicalresearch'])\n",
    "\n",
    "df = pd.DataFrame(data, columns=['title', 'selftext', 'url', 'subreddit'])\n",
    "df.to_csv('clinicalresearch_data.csv', index=False)\n",
    "\n",
    "print(df.head())\n"
   ]
  },
  {
   "cell_type": "code",
   "execution_count": null,
   "metadata": {},
   "outputs": [],
   "source": [
    "# scrape subreddit \"genetic disorder\", \"raredisease\", related to health condition relevant to the clinical trial\t\n",
    "\n",
    "subreddits = ['ClinicalGenetics', 'genetics', 'raredisease']\n",
    "\n",
    "data = []\n",
    "\n",
    "for subreddit in subreddits:\n",
    "\t  for submission in reddit.subreddit(subreddit).top(limit=1000):\n",
    "\t\t  data.append([submission.title, submission.selftext, submission.url, subreddit])\n"
   ]
  },
  {
   "cell_type": "code",
   "execution_count": 5,
   "metadata": {},
   "outputs": [
    {
     "name": "stdout",
     "output_type": "stream",
     "text": [
      "                                               title  \\\n",
      "0  I found out my sibling has a hereditary geneti...   \n",
      "1  Have you ever encountered a surprisingly sever...   \n",
      "2                         BECOME A GENETIC COUNSELOR   \n",
      "3                Does anyone even moderate this sub?   \n",
      "4  Free \"What is Genetic Counselling\" Online Cous...   \n",
      "\n",
      "                                            selftext  \\\n",
      "0  And my mum has known about it for 20 years. I ...   \n",
      "1  Once in awhile I've come across cases that cha...   \n",
      "2  /r/ClinicalGenetics is proud to announce the a...   \n",
      "3  This is the number one rule listed on this sub...   \n",
      "4  [FutureLearn](https://www.futurelearn.com/) of...   \n",
      "\n",
      "                                                 url         subreddit  \n",
      "0  https://www.reddit.com/r/ClinicalGenetics/comm...  ClinicalGenetics  \n",
      "1  https://www.reddit.com/r/ClinicalGenetics/comm...  ClinicalGenetics  \n",
      "2  https://www.reddit.com/r/ClinicalGenetics/comm...  ClinicalGenetics  \n",
      "3               https://i.redd.it/k6uf0mc1yand1.jpeg  ClinicalGenetics  \n",
      "4  https://www.reddit.com/r/ClinicalGenetics/comm...  ClinicalGenetics  \n"
     ]
    }
   ],
   "source": [
    "\n",
    "df = pd.DataFrame(data, columns=['title', 'selftext', 'url', 'subreddit'])\n",
    "df.to_csv('genetics_data.csv', index=False)\n",
    "\n",
    "print(df.head())\n"
   ]
  }
 ],
 "metadata": {
  "kernelspec": {
   "display_name": "limpressive",
   "language": "python",
   "name": "python3"
  },
  "language_info": {
   "codemirror_mode": {
    "name": "ipython",
    "version": 3
   },
   "file_extension": ".py",
   "mimetype": "text/x-python",
   "name": "python",
   "nbconvert_exporter": "python",
   "pygments_lexer": "ipython3",
   "version": "3.11.4"
  }
 },
 "nbformat": 4,
 "nbformat_minor": 2
}
