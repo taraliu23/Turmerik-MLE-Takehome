{
 "cells": [
  {
   "cell_type": "code",
   "execution_count": null,
   "metadata": {},
   "outputs": [],
   "source": [
    "!pip install praw\n",
    "\n",
    "import praw"
   ]
  },
  {
   "cell_type": "code",
   "execution_count": 4,
   "metadata": {},
   "outputs": [],
   "source": [
    "\n",
    "with open('../secret.txt') as f:\n",
    "    \n",
    "    lines = f.readlines()\n",
    "    client_id = lines[0].strip()\n",
    "    client_secret = lines[1].strip()\n",
    "    user_agent = lines[2].strip()\n",
    "\n",
    "reddit = praw.Reddit(\n",
    "    client_id=client_id,\n",
    "    client_secret=client_secret,\n",
    "    user_agent=user_agent,\n",
    ")\n"
   ]
  },
  {
   "cell_type": "code",
   "execution_count": 5,
   "metadata": {},
   "outputs": [
    {
     "name": "stdout",
     "output_type": "stream",
     "text": [
      "Lad wrote a Python script to download Alexa voice recordings, he didn't expect this email.\n",
      "https://i.redd.it/2s0dj8ob12u41.png\n",
      "---\n",
      "This post has:\n",
      "https://www.reddit.com/r/Python/comments/hoolsm/this_post_has/\n",
      "---\n",
      "I redesign the Python logo to make it more modern\n",
      "https://i.redd.it/rxezjyf4ojx41.png\n",
      "---\n",
      "Automate the boring stuff with python - tinder\n",
      "https://gfycat.com/PointlessSimplisticAmericanquarterhorse\n",
      "---\n",
      "I'm excited to share my first published book, Introduction to Python Programming for Business and Social Science Applications -- specifically geared towards students not specifically in computer science\n",
      "https://i.redd.it/ebmh8z3c8rm51.png\n",
      "---\n",
      "Drawing Mona Lisa with 256 circles using evolution [Github repo in comments]\n",
      "https://v.redd.it/nyzyx7uyfwz41\n",
      "---\n",
      "I made a simulation using Python in which a neural network learns to race\n",
      "https://v.redd.it/bgmc6q20ela51\n",
      "---\n",
      "Thanks to everyone’s advice, my mouse drawing algorithm has gotten much better and faster!\n",
      "https://v.redd.it/sktc30zom7y41\n",
      "---\n",
      "Debugging Cheat Sheet\n",
      "https://i.redd.it/p1i8awsivji51.jpg\n",
      "---\n",
      "Just trying to create a orbit system in python and this happened...\n",
      "https://v.redd.it/8i70ps8doqr31\n",
      "---\n"
     ]
    }
   ],
   "source": [
    "# test the connection\n",
    "subreddit = reddit.subreddit('python')\n",
    "for submission in subreddit.top(limit=10):\n",
    "  print(submission.title)\n",
    "  print(submission.url)\n",
    "  print(\"---\")"
   ]
  },
  {
   "cell_type": "code",
   "execution_count": null,
   "metadata": {},
   "outputs": [],
   "source": []
  }
 ],
 "metadata": {
  "kernelspec": {
   "display_name": "limpressive",
   "language": "python",
   "name": "python3"
  },
  "language_info": {
   "codemirror_mode": {
    "name": "ipython",
    "version": 3
   },
   "file_extension": ".py",
   "mimetype": "text/x-python",
   "name": "python",
   "nbconvert_exporter": "python",
   "pygments_lexer": "ipython3",
   "version": "3.11.4"
  }
 },
 "nbformat": 4,
 "nbformat_minor": 2
}
